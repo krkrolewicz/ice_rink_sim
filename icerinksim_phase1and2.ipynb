{
 "cells": [
  {
   "cell_type": "code",
   "execution_count": 1,
   "id": "dff95de6",
   "metadata": {},
   "outputs": [],
   "source": [
    "using DataFrames\n",
    "using Statistics\n",
    "using Distributions\n",
    "using DataStructures\n",
    "using Parameters"
   ]
  },
  {
   "cell_type": "markdown",
   "id": "c05a7fff",
   "metadata": {},
   "source": [
    "## W niniejszym notebooku zostanie dokonana symulacja działania lodowiska.\n",
    "\n",
    "Początkowo poczynimy następujace założenia:\n",
    "* jest jedna kasa\n",
    "* kasa obsługuje klientów pojedynczo\n",
    "* czas obsługi klienta jest zmienną losową o rozkładzie wykładniczym, którego parametr będzie zmienną wejściową\n",
    "* czas pobytu gościa na lodowisku również będzie zmienną losową o powyższym rozkładzie o parametrze wprowadzanym przez zmienną wejściową\n",
    "* Gdy kasa jest zajęta, klient czeka w kolejce\n",
    "* Klient chce wejść na lodowisko za wszelką cenę - nie opuści kolejki niezależnie od jej długości\n",
    "* Klient z pewnym prawdopodobieństwem wypożyczy łyżwy - parametr wejściowy\n"
   ]
  },
  {
   "cell_type": "markdown",
   "id": "3604cc1c",
   "metadata": {},
   "source": [
    "### Pierwszy etap:\n",
    "* jedna kasa\n",
    "* kolejka do kasy\n",
    "* klient nie opuszcza kolejki niezależnie od jej długości\n",
    "* kolejka obsługuje jedną osobę, obsługa klienta ma czas zgodny z rozkładem wykładniczym\n"
   ]
  },
  {
   "cell_type": "code",
   "execution_count": null,
   "id": "1ad58fc6",
   "metadata": {},
   "outputs": [],
   "source": [
    "@with_kw mutable struct Lodowisko\n",
    "    tick::Int64 = 0\n",
    "    people_on_rink_T::Int64 = 0\n",
    "    p_o_r_total::DataFrame = DataFrame(From=Float64[], To = Float64[], number = Int[])\n",
    "    \n",
    "    \n",
    "    isKASAidle::Bool=true\n",
    "    served_clientsK::Int64 = 0\n",
    "    when_KASA_idle_when_not::DataFrame = DataFrame(From = Float64[], To = Float64[], IDLE = Bool[])\n",
    "    queue::PriorityQueue{Function, Tuple{Float64, Int}} = PriorityQueue{Function, Tuple{Float64, Int}}()    \n",
    "    \n",
    "    queue_to_kasa::Queue{Float64} = Queue{Float64}()\n",
    "    \n",
    "    isRENTidle::Bool=true\n",
    "    served_clients_rent::Int64 = 0\n",
    "    money_earned::Int64 = 0\n",
    "    prob_of_rent::Float64 = 0.7\n",
    "    price::Int64 = 10\n",
    "    \n",
    "    waittime::DataFrame = DataFrame(From = Float64[], To = Float64[])\n",
    "end\n",
    "\n",
    "# @with_kw mutable struct Kasa\n",
    "#     isKASAidle::Bool=true\n",
    "#     served_clientsK::Int64 = 0\n",
    "#     when_KASA_idle_when_not::DataFrame = DataFrame(From = Int[], To = Int[], IDLE = Bool[])\n",
    "#     queue_kasa::PriorityQueue{Function, Int64} = PriorityQueue{Function, Int64}()\n",
    "# end\n",
    "\n",
    "# @with_kw mutable struct Rent\n",
    "#     isRENTidle::Bool=true\n",
    "#     served_clients_rent::Int64 = 0\n",
    "#     money_earned::Int64 = 0\n",
    "# end"
   ]
  },
  {
   "cell_type": "code",
   "execution_count": null,
   "id": "080f4360",
   "metadata": {},
   "outputs": [],
   "source": []
  },
  {
   "cell_type": "code",
   "execution_count": 3,
   "id": "f4488148",
   "metadata": {},
   "outputs": [
    {
     "data": {
      "text/plain": [
       "kasa_served! (generic function with 1 method)"
      ]
     },
     "execution_count": 3,
     "metadata": {},
     "output_type": "execute_result"
    }
   ],
   "source": [
    "function client_arrived!(sim, T)\n",
    "    if sim.isKASAidle == true\n",
    "        sim.isKASAidle = false\n",
    "        t_of_service = rand(Exponential(75))\n",
    "        push!(sim.when_KASA_idle_when_not, (T, T + t_of_service, true))\n",
    "        enqueue!(sim.queue, kasa_served!, (T + t_of_service, 1))\n",
    "    else\n",
    "        enqueue!(sim.queue_to_kasa, T)\n",
    "        \n",
    "    end\n",
    "        \n",
    "end\n",
    "\n",
    "\n",
    "\n",
    "function kasa_check!(sim, T)\n",
    "    s = length(sim.queue_to_kasa)\n",
    "    if s != 0\n",
    "        t_serv = dequeue!(sim.queue_to_kasa)\n",
    "        push!(sim.waittime, (t_serv, T))\n",
    "        sim.isKASAidle = false\n",
    "        t_of_service = rand(Exponential(75))\n",
    "        push!(sim.when_KASA_idle_when_not, (T, T+t_of_service, true))\n",
    "        enqueue!(sim.queue, kasa_served!, (T + t_of_service, 1))\n",
    "    end\n",
    "end\n",
    "\n",
    "\n",
    "\n",
    "function kasa_served!(sim, T)\n",
    "    sim.isKASAidle = true\n",
    "    sim.served_clientsK += 1\n",
    "    enqueue!(sim.queue, kasa_check!, (T, 7))\n",
    "end"
   ]
  },
  {
   "cell_type": "code",
   "execution_count": 4,
   "id": "f28bd1a8",
   "metadata": {},
   "outputs": [
    {
     "data": {
      "text/plain": [
       "step! (generic function with 1 method)"
      ]
     },
     "execution_count": 4,
     "metadata": {},
     "output_type": "execute_result"
    }
   ],
   "source": [
    "function step!(sim)\n",
    "    if sim.tick == 0\n",
    "        t_ar = rand(Exponential(75))\n",
    "        enqueue!(sim.queue, client_arrived!, (t_ar, 1))\n",
    "    end\n",
    "    sim.tick+=1\n",
    "    \n",
    "    func, time_tuple = dequeue_pair!(sim.queue)\n",
    "    time = time_tuple[1]\n",
    "    func(sim, time)\n",
    "    \n",
    "    if String(Symbol(func)) == \"client_arrived!\"\n",
    "        t_ar = rand(Exponential(75))\n",
    "        enqueue!(sim.queue, client_arrived!, (time + t_ar, 1))\n",
    "        \n",
    "    end\n",
    "    return time\n",
    "end"
   ]
  },
  {
   "cell_type": "code",
   "execution_count": 5,
   "id": "23373730",
   "metadata": {},
   "outputs": [],
   "source": [
    "model = Lodowisko()\n",
    "horizon = 3600*8\n",
    "\n",
    "while true\n",
    "    t = step!(model)\n",
    "    if t >= horizon\n",
    "        break\n",
    "    end\n",
    "end\n"
   ]
  },
  {
   "cell_type": "code",
   "execution_count": 6,
   "id": "1544dcf6",
   "metadata": {
    "collapsed": true
   },
   "outputs": [
    {
     "data": {
      "text/html": [
       "<div class=\"data-frame\"><p>355 rows × 2 columns</p><table class=\"data-frame\"><thead><tr><th></th><th>From</th><th>To</th></tr><tr><th></th><th title=\"Float64\">Float64</th><th title=\"Float64\">Float64</th></tr></thead><tbody><tr><th>1</th><td>288.901</td><td>328.822</td></tr><tr><th>2</th><td>476.824</td><td>660.833</td></tr><tr><th>3</th><td>514.942</td><td>770.291</td></tr><tr><th>4</th><td>531.53</td><td>780.471</td></tr><tr><th>5</th><td>556.111</td><td>853.64</td></tr><tr><th>6</th><td>688.54</td><td>866.648</td></tr><tr><th>7</th><td>710.721</td><td>1046.5</td></tr><tr><th>8</th><td>856.362</td><td>1075.83</td></tr><tr><th>9</th><td>865.693</td><td>1120.31</td></tr><tr><th>10</th><td>897.145</td><td>1230.4</td></tr><tr><th>11</th><td>930.549</td><td>1264.01</td></tr><tr><th>12</th><td>1104.44</td><td>1617.7</td></tr><tr><th>13</th><td>1142.16</td><td>1623.18</td></tr><tr><th>14</th><td>1187.18</td><td>1632.5</td></tr><tr><th>15</th><td>1208.09</td><td>1680.86</td></tr><tr><th>16</th><td>1208.65</td><td>1817.22</td></tr><tr><th>17</th><td>1226.95</td><td>1846.59</td></tr><tr><th>18</th><td>1429.12</td><td>1975.32</td></tr><tr><th>19</th><td>1506.81</td><td>2083.81</td></tr><tr><th>20</th><td>1568.29</td><td>2344.38</td></tr><tr><th>21</th><td>1629.88</td><td>2452.8</td></tr><tr><th>22</th><td>1649.76</td><td>2579.37</td></tr><tr><th>23</th><td>1735.27</td><td>2594.65</td></tr><tr><th>24</th><td>1757.34</td><td>2642.58</td></tr><tr><th>25</th><td>1911.1</td><td>2680.46</td></tr><tr><th>26</th><td>1925.46</td><td>2697.39</td></tr><tr><th>27</th><td>1998.27</td><td>2716.88</td></tr><tr><th>28</th><td>2055.48</td><td>2790.64</td></tr><tr><th>29</th><td>2225.73</td><td>2816.5</td></tr><tr><th>30</th><td>2317.36</td><td>2860.08</td></tr><tr><th>&vellip;</th><td>&vellip;</td><td>&vellip;</td></tr></tbody></table></div>"
      ],
      "text/latex": [
       "\\begin{tabular}{r|cc}\n",
       "\t& From & To\\\\\n",
       "\t\\hline\n",
       "\t& Float64 & Float64\\\\\n",
       "\t\\hline\n",
       "\t1 & 288.901 & 328.822 \\\\\n",
       "\t2 & 476.824 & 660.833 \\\\\n",
       "\t3 & 514.942 & 770.291 \\\\\n",
       "\t4 & 531.53 & 780.471 \\\\\n",
       "\t5 & 556.111 & 853.64 \\\\\n",
       "\t6 & 688.54 & 866.648 \\\\\n",
       "\t7 & 710.721 & 1046.5 \\\\\n",
       "\t8 & 856.362 & 1075.83 \\\\\n",
       "\t9 & 865.693 & 1120.31 \\\\\n",
       "\t10 & 897.145 & 1230.4 \\\\\n",
       "\t11 & 930.549 & 1264.01 \\\\\n",
       "\t12 & 1104.44 & 1617.7 \\\\\n",
       "\t13 & 1142.16 & 1623.18 \\\\\n",
       "\t14 & 1187.18 & 1632.5 \\\\\n",
       "\t15 & 1208.09 & 1680.86 \\\\\n",
       "\t16 & 1208.65 & 1817.22 \\\\\n",
       "\t17 & 1226.95 & 1846.59 \\\\\n",
       "\t18 & 1429.12 & 1975.32 \\\\\n",
       "\t19 & 1506.81 & 2083.81 \\\\\n",
       "\t20 & 1568.29 & 2344.38 \\\\\n",
       "\t21 & 1629.88 & 2452.8 \\\\\n",
       "\t22 & 1649.76 & 2579.37 \\\\\n",
       "\t23 & 1735.27 & 2594.65 \\\\\n",
       "\t24 & 1757.34 & 2642.58 \\\\\n",
       "\t25 & 1911.1 & 2680.46 \\\\\n",
       "\t26 & 1925.46 & 2697.39 \\\\\n",
       "\t27 & 1998.27 & 2716.88 \\\\\n",
       "\t28 & 2055.48 & 2790.64 \\\\\n",
       "\t29 & 2225.73 & 2816.5 \\\\\n",
       "\t30 & 2317.36 & 2860.08 \\\\\n",
       "\t$\\dots$ & $\\dots$ & $\\dots$ \\\\\n",
       "\\end{tabular}\n"
      ],
      "text/plain": [
       "\u001b[1m355×2 DataFrame\u001b[0m\n",
       "\u001b[1m Row \u001b[0m│\u001b[1m From      \u001b[0m\u001b[1m To        \u001b[0m\n",
       "\u001b[1m     \u001b[0m│\u001b[90m Float64   \u001b[0m\u001b[90m Float64   \u001b[0m\n",
       "─────┼──────────────────────\n",
       "   1 │   288.901    328.822\n",
       "   2 │   476.824    660.833\n",
       "   3 │   514.942    770.291\n",
       "   4 │   531.53     780.471\n",
       "   5 │   556.111    853.64\n",
       "   6 │   688.54     866.648\n",
       "   7 │   710.721   1046.5\n",
       "   8 │   856.362   1075.83\n",
       "   9 │   865.693   1120.31\n",
       "  10 │   897.145   1230.4\n",
       "  11 │   930.549   1264.01\n",
       "  ⋮  │     ⋮          ⋮\n",
       " 346 │ 26640.1    28298.7\n",
       " 347 │ 26740.1    28301.2\n",
       " 348 │ 26751.6    28326.4\n",
       " 349 │ 26826.4    28330.4\n",
       " 350 │ 26873.2    28400.4\n",
       " 351 │ 26962.8    28452.7\n",
       " 352 │ 27059.1    28572.6\n",
       " 353 │ 27085.6    28723.4\n",
       " 354 │ 27096.7    28739.9\n",
       " 355 │ 27121.6    28748.2\n",
       "\u001b[36m            334 rows omitted\u001b[0m"
      ]
     },
     "execution_count": 6,
     "metadata": {},
     "output_type": "execute_result"
    }
   ],
   "source": [
    "model.waittime"
   ]
  },
  {
   "cell_type": "markdown",
   "id": "050867a4",
   "metadata": {},
   "source": [
    "### II etap:\n",
    "\n",
    "* dodajemy lodowisko"
   ]
  },
  {
   "cell_type": "code",
   "execution_count": 3,
   "id": "eb405e93",
   "metadata": {},
   "outputs": [
    {
     "data": {
      "text/plain": [
       "Lodowisko2"
      ]
     },
     "execution_count": 3,
     "metadata": {},
     "output_type": "execute_result"
    }
   ],
   "source": [
    "@with_kw mutable struct Lodowisko2\n",
    "    tick::Int64 = 0\n",
    "    people_on_rink_T::Int64 = 0\n",
    "    p_o_r_total::DataFrame = DataFrame(From=Float64[], To = Float64[], number = Int[])\n",
    "    last_change_p_o_r::Float64 = 0\n",
    "    \n",
    "    isKASAidle::Bool=true\n",
    "    served_clientsK::Int64 = 0\n",
    "    when_KASA_idle_when_not::DataFrame = DataFrame(From = Float64[], To = Float64[], IDLE = Bool[])\n",
    "    queue::PriorityQueue{Function, Tuple{Float64, Int}} = PriorityQueue{Function, Tuple{Float64, Int}}()    \n",
    "    \n",
    "    queue_to_kasa::Queue{Float64} = Queue{Float64}()\n",
    "    \n",
    "    isRENTidle::Bool=true\n",
    "    served_clients_rent::Int64 = 0\n",
    "    money_earned::Int64 = 0\n",
    "    prob_of_rent::Float64 = 0.7\n",
    "    price::Int64 = 10\n",
    "    \n",
    "    waittime::DataFrame = DataFrame(From = Float64[], To = Float64[])\n",
    "    \n",
    "    times_of_spends::DataFrame = DataFrame(ID = Int[], From = Float64[], To = Float64[])\n",
    "    \n",
    "end"
   ]
  },
  {
   "cell_type": "code",
   "execution_count": 11,
   "id": "ab3f34ef",
   "metadata": {},
   "outputs": [
    {
     "data": {
      "text/plain": [
       "client_enters_rink! (generic function with 1 method)"
      ]
     },
     "execution_count": 11,
     "metadata": {},
     "output_type": "execute_result"
    }
   ],
   "source": [
    "function client_arrived2!(sim, T)\n",
    "    if sim.isKASAidle == true\n",
    "        sim.isKASAidle = false\n",
    "        t_of_service = rand(Exponential(75))\n",
    "        push!(sim.when_KASA_idle_when_not, (T, T + t_of_service, true))\n",
    "        enqueue!(sim.queue, kasa_served2!, (T + t_of_service, 2))\n",
    "    else\n",
    "        enqueue!(sim.queue_to_kasa, T)\n",
    "        \n",
    "    end\n",
    "        \n",
    "end\n",
    "\n",
    "function kasa_served2!(sim, T)\n",
    "    sim.isKASAidle = true\n",
    "    sim.served_clientsK += 1\n",
    "    enqueue!(sim.queue, kasa_check2!, (T, 3))\n",
    "    enqueue!(sim.queue, client_enters_rink!, (T, 4))\n",
    "end\n",
    "\n",
    "function kasa_check2!(sim, T)\n",
    "    s = length(sim.queue_to_kasa)\n",
    "    if s != 0\n",
    "        t_serv = dequeue!(sim.queue_to_kasa)\n",
    "        push!(sim.waittime, (t_serv, T))\n",
    "        sim.isKASAidle = false\n",
    "        t_of_service = rand(Exponential(75))\n",
    "        push!(sim.when_KASA_idle_when_not, (T, T+t_of_service, true))\n",
    "        enqueue!(sim.queue, kasa_served2!, (T + t_of_service, 2))\n",
    "    end\n",
    "end\n",
    "\n",
    "\n",
    "function client_enters_rink!(sim, T)\n",
    "\n",
    "    time_last_change = sim.last_change_p_o_r\n",
    "     \n",
    "    push!(sim.p_o_r_total, (time_last_change, T, sim.people_on_rink_T))\n",
    "    \n",
    "    sim.last_change_p_o_r = T\n",
    "    sim.people_on_rink_T+=1\n",
    "    time_spent = rand(Exponential(3600))\n",
    "\n",
    "    push!(sim.times_of_spends, (sim.people_on_rink_T, T, T+time_spent))\n",
    "    \n",
    "    #enqueue!(sim.queue, client_leaves!, (T + time_spent, 5))\n",
    "end\n",
    "\n",
    "# function client_leaves!(sim, T)\n",
    "    \n",
    "#     time_last_change = sim.last_change_p_o_r\n",
    "     \n",
    "#     push!(sim.p_o_r_total, (time_last_change, T, sim.people_on_rink_T))\n",
    "    \n",
    "#     sim.last_change_p_o_r = T\n",
    "#     sim.people_on_rink_T-=1\n",
    "    \n",
    "# end"
   ]
  },
  {
   "cell_type": "code",
   "execution_count": 12,
   "id": "510cd6e1",
   "metadata": {},
   "outputs": [
    {
     "data": {
      "text/plain": [
       "step2! (generic function with 1 method)"
      ]
     },
     "execution_count": 12,
     "metadata": {},
     "output_type": "execute_result"
    }
   ],
   "source": [
    "function step2!(sim::Lodowisko2)\n",
    "    if sim.tick == 0\n",
    "        t_ar = rand(Exponential(180))\n",
    "        enqueue!(sim.queue, client_arrived2!, (t_ar, 1))\n",
    "    end\n",
    "    sim.tick+=1\n",
    "    \n",
    "    #println(sim.queue)\n",
    "    func, time_tuple = dequeue_pair!(sim.queue)\n",
    "    time = time_tuple[1]\n",
    "    func(sim, time)\n",
    "    \n",
    "    if String(Symbol(func)) == \"client_arrived2!\"\n",
    "        t_ar = rand(Exponential(180))\n",
    "        enqueue!(sim.queue, client_arrived2!, (time + t_ar, 1))\n",
    "        \n",
    "    end\n",
    "    return time\n",
    "end"
   ]
  },
  {
   "cell_type": "code",
   "execution_count": 46,
   "id": "fbbd0989",
   "metadata": {},
   "outputs": [],
   "source": [
    "modelx = Lodowisko2()\n",
    "horizon = 3600*8\n",
    "\n",
    "while true\n",
    "    t = step2!(modelx)\n",
    "    if t >= horizon\n",
    "        break\n",
    "    end\n",
    "end\n"
   ]
  },
  {
   "cell_type": "code",
   "execution_count": 47,
   "id": "81c51ec9",
   "metadata": {},
   "outputs": [
    {
     "data": {
      "text/html": [
       "<div class=\"data-frame\"><p>169 rows × 3 columns</p><table class=\"data-frame\"><thead><tr><th></th><th>ID</th><th>From</th><th>To</th></tr><tr><th></th><th title=\"Int64\">Int64</th><th title=\"Float64\">Float64</th><th title=\"Float64\">Float64</th></tr></thead><tbody><tr><th>1</th><td>1</td><td>306.723</td><td>403.192</td></tr><tr><th>2</th><td>2</td><td>513.883</td><td>8348.08</td></tr><tr><th>3</th><td>3</td><td>813.092</td><td>2597.77</td></tr><tr><th>4</th><td>4</td><td>924.445</td><td>11575.3</td></tr><tr><th>5</th><td>5</td><td>1041.2</td><td>1468.38</td></tr><tr><th>6</th><td>6</td><td>1243.73</td><td>2182.42</td></tr><tr><th>7</th><td>7</td><td>1535.1</td><td>7894.17</td></tr><tr><th>8</th><td>8</td><td>1635.87</td><td>5013.44</td></tr><tr><th>9</th><td>9</td><td>1937.79</td><td>2147.6</td></tr><tr><th>10</th><td>10</td><td>2322.74</td><td>3205.38</td></tr><tr><th>11</th><td>11</td><td>2384.34</td><td>9575.05</td></tr><tr><th>12</th><td>12</td><td>2401.44</td><td>4882.91</td></tr><tr><th>13</th><td>13</td><td>2827.48</td><td>3556.66</td></tr><tr><th>14</th><td>14</td><td>3006.76</td><td>7752.57</td></tr><tr><th>15</th><td>15</td><td>3148.31</td><td>10275.6</td></tr><tr><th>16</th><td>16</td><td>3376.31</td><td>5683.53</td></tr><tr><th>17</th><td>17</td><td>3737.97</td><td>8466.77</td></tr><tr><th>18</th><td>18</td><td>3892.62</td><td>7079.73</td></tr><tr><th>19</th><td>19</td><td>4280.84</td><td>6759.16</td></tr><tr><th>20</th><td>20</td><td>4344.24</td><td>10867.8</td></tr><tr><th>21</th><td>21</td><td>5031.6</td><td>7614.86</td></tr><tr><th>22</th><td>22</td><td>5335.02</td><td>13597.8</td></tr><tr><th>23</th><td>23</td><td>5417.24</td><td>7784.74</td></tr><tr><th>24</th><td>24</td><td>5590.28</td><td>6989.37</td></tr><tr><th>25</th><td>25</td><td>5683.83</td><td>6261.02</td></tr><tr><th>26</th><td>26</td><td>5825.33</td><td>9456.41</td></tr><tr><th>27</th><td>27</td><td>6051.09</td><td>6819.41</td></tr><tr><th>28</th><td>28</td><td>6171.02</td><td>14729.1</td></tr><tr><th>29</th><td>29</td><td>6486.17</td><td>20026.7</td></tr><tr><th>30</th><td>30</td><td>6529.82</td><td>6807.33</td></tr><tr><th>&vellip;</th><td>&vellip;</td><td>&vellip;</td><td>&vellip;</td></tr></tbody></table></div>"
      ],
      "text/latex": [
       "\\begin{tabular}{r|ccc}\n",
       "\t& ID & From & To\\\\\n",
       "\t\\hline\n",
       "\t& Int64 & Float64 & Float64\\\\\n",
       "\t\\hline\n",
       "\t1 & 1 & 306.723 & 403.192 \\\\\n",
       "\t2 & 2 & 513.883 & 8348.08 \\\\\n",
       "\t3 & 3 & 813.092 & 2597.77 \\\\\n",
       "\t4 & 4 & 924.445 & 11575.3 \\\\\n",
       "\t5 & 5 & 1041.2 & 1468.38 \\\\\n",
       "\t6 & 6 & 1243.73 & 2182.42 \\\\\n",
       "\t7 & 7 & 1535.1 & 7894.17 \\\\\n",
       "\t8 & 8 & 1635.87 & 5013.44 \\\\\n",
       "\t9 & 9 & 1937.79 & 2147.6 \\\\\n",
       "\t10 & 10 & 2322.74 & 3205.38 \\\\\n",
       "\t11 & 11 & 2384.34 & 9575.05 \\\\\n",
       "\t12 & 12 & 2401.44 & 4882.91 \\\\\n",
       "\t13 & 13 & 2827.48 & 3556.66 \\\\\n",
       "\t14 & 14 & 3006.76 & 7752.57 \\\\\n",
       "\t15 & 15 & 3148.31 & 10275.6 \\\\\n",
       "\t16 & 16 & 3376.31 & 5683.53 \\\\\n",
       "\t17 & 17 & 3737.97 & 8466.77 \\\\\n",
       "\t18 & 18 & 3892.62 & 7079.73 \\\\\n",
       "\t19 & 19 & 4280.84 & 6759.16 \\\\\n",
       "\t20 & 20 & 4344.24 & 10867.8 \\\\\n",
       "\t21 & 21 & 5031.6 & 7614.86 \\\\\n",
       "\t22 & 22 & 5335.02 & 13597.8 \\\\\n",
       "\t23 & 23 & 5417.24 & 7784.74 \\\\\n",
       "\t24 & 24 & 5590.28 & 6989.37 \\\\\n",
       "\t25 & 25 & 5683.83 & 6261.02 \\\\\n",
       "\t26 & 26 & 5825.33 & 9456.41 \\\\\n",
       "\t27 & 27 & 6051.09 & 6819.41 \\\\\n",
       "\t28 & 28 & 6171.02 & 14729.1 \\\\\n",
       "\t29 & 29 & 6486.17 & 20026.7 \\\\\n",
       "\t30 & 30 & 6529.82 & 6807.33 \\\\\n",
       "\t$\\dots$ & $\\dots$ & $\\dots$ & $\\dots$ \\\\\n",
       "\\end{tabular}\n"
      ],
      "text/plain": [
       "\u001b[1m169×3 DataFrame\u001b[0m\n",
       "\u001b[1m Row \u001b[0m│\u001b[1m ID    \u001b[0m\u001b[1m From      \u001b[0m\u001b[1m To        \u001b[0m\n",
       "\u001b[1m     \u001b[0m│\u001b[90m Int64 \u001b[0m\u001b[90m Float64   \u001b[0m\u001b[90m Float64   \u001b[0m\n",
       "─────┼─────────────────────────────\n",
       "   1 │     1    306.723    403.192\n",
       "   2 │     2    513.883   8348.08\n",
       "   3 │     3    813.092   2597.77\n",
       "   4 │     4    924.445  11575.3\n",
       "   5 │     5   1041.2     1468.38\n",
       "   6 │     6   1243.73    2182.42\n",
       "   7 │     7   1535.1     7894.17\n",
       "   8 │     8   1635.87    5013.44\n",
       "   9 │     9   1937.79    2147.6\n",
       "  10 │    10   2322.74    3205.38\n",
       "  11 │    11   2384.34    9575.05\n",
       "  ⋮  │   ⋮        ⋮          ⋮\n",
       " 160 │   160  27766.8    28558.4\n",
       " 161 │   161  27925.0    33888.3\n",
       " 162 │   162  27959.1    32712.3\n",
       " 163 │   163  27998.9    30388.1\n",
       " 164 │   164  28206.1    30936.1\n",
       " 165 │   165  28286.9    29472.7\n",
       " 166 │   166  28291.6    29361.2\n",
       " 167 │   167  28359.7    29666.8\n",
       " 168 │   168  28483.8    35222.9\n",
       " 169 │   169  28580.6    32573.9\n",
       "\u001b[36m                   148 rows omitted\u001b[0m"
      ]
     },
     "execution_count": 47,
     "metadata": {},
     "output_type": "execute_result"
    }
   ],
   "source": [
    "modelx.times_of_spends"
   ]
  },
  {
   "cell_type": "code",
   "execution_count": 48,
   "id": "9db3e4f8",
   "metadata": {},
   "outputs": [
    {
     "data": {
      "text/html": [
       "<div class=\"data-frame\"><p>338 rows × 2 columns</p><table class=\"data-frame\"><thead><tr><th></th><th>timestamp</th><th>aux</th></tr><tr><th></th><th title=\"Float64\">Float64</th><th title=\"Float64\">Float64</th></tr></thead><tbody><tr><th>1</th><td>306.723</td><td>1.0</td></tr><tr><th>2</th><td>403.192</td><td>-1.0</td></tr><tr><th>3</th><td>513.883</td><td>1.0</td></tr><tr><th>4</th><td>813.092</td><td>1.0</td></tr><tr><th>5</th><td>924.445</td><td>1.0</td></tr><tr><th>6</th><td>1041.2</td><td>1.0</td></tr><tr><th>7</th><td>1243.73</td><td>1.0</td></tr><tr><th>8</th><td>1468.38</td><td>-1.0</td></tr><tr><th>9</th><td>1535.1</td><td>1.0</td></tr><tr><th>10</th><td>1635.87</td><td>1.0</td></tr><tr><th>11</th><td>1937.79</td><td>1.0</td></tr><tr><th>12</th><td>2147.6</td><td>-1.0</td></tr><tr><th>13</th><td>2182.42</td><td>-1.0</td></tr><tr><th>14</th><td>2322.74</td><td>1.0</td></tr><tr><th>15</th><td>2384.34</td><td>1.0</td></tr><tr><th>16</th><td>2401.44</td><td>1.0</td></tr><tr><th>17</th><td>2597.77</td><td>-1.0</td></tr><tr><th>18</th><td>2827.48</td><td>1.0</td></tr><tr><th>19</th><td>3006.76</td><td>1.0</td></tr><tr><th>20</th><td>3148.31</td><td>1.0</td></tr><tr><th>21</th><td>3205.38</td><td>-1.0</td></tr><tr><th>22</th><td>3376.31</td><td>1.0</td></tr><tr><th>23</th><td>3556.66</td><td>-1.0</td></tr><tr><th>24</th><td>3737.97</td><td>1.0</td></tr><tr><th>25</th><td>3892.62</td><td>1.0</td></tr><tr><th>26</th><td>4280.84</td><td>1.0</td></tr><tr><th>27</th><td>4344.24</td><td>1.0</td></tr><tr><th>28</th><td>4882.91</td><td>-1.0</td></tr><tr><th>29</th><td>5013.44</td><td>-1.0</td></tr><tr><th>30</th><td>5031.6</td><td>1.0</td></tr><tr><th>&vellip;</th><td>&vellip;</td><td>&vellip;</td></tr></tbody></table></div>"
      ],
      "text/latex": [
       "\\begin{tabular}{r|cc}\n",
       "\t& timestamp & aux\\\\\n",
       "\t\\hline\n",
       "\t& Float64 & Float64\\\\\n",
       "\t\\hline\n",
       "\t1 & 306.723 & 1.0 \\\\\n",
       "\t2 & 403.192 & -1.0 \\\\\n",
       "\t3 & 513.883 & 1.0 \\\\\n",
       "\t4 & 813.092 & 1.0 \\\\\n",
       "\t5 & 924.445 & 1.0 \\\\\n",
       "\t6 & 1041.2 & 1.0 \\\\\n",
       "\t7 & 1243.73 & 1.0 \\\\\n",
       "\t8 & 1468.38 & -1.0 \\\\\n",
       "\t9 & 1535.1 & 1.0 \\\\\n",
       "\t10 & 1635.87 & 1.0 \\\\\n",
       "\t11 & 1937.79 & 1.0 \\\\\n",
       "\t12 & 2147.6 & -1.0 \\\\\n",
       "\t13 & 2182.42 & -1.0 \\\\\n",
       "\t14 & 2322.74 & 1.0 \\\\\n",
       "\t15 & 2384.34 & 1.0 \\\\\n",
       "\t16 & 2401.44 & 1.0 \\\\\n",
       "\t17 & 2597.77 & -1.0 \\\\\n",
       "\t18 & 2827.48 & 1.0 \\\\\n",
       "\t19 & 3006.76 & 1.0 \\\\\n",
       "\t20 & 3148.31 & 1.0 \\\\\n",
       "\t21 & 3205.38 & -1.0 \\\\\n",
       "\t22 & 3376.31 & 1.0 \\\\\n",
       "\t23 & 3556.66 & -1.0 \\\\\n",
       "\t24 & 3737.97 & 1.0 \\\\\n",
       "\t25 & 3892.62 & 1.0 \\\\\n",
       "\t26 & 4280.84 & 1.0 \\\\\n",
       "\t27 & 4344.24 & 1.0 \\\\\n",
       "\t28 & 4882.91 & -1.0 \\\\\n",
       "\t29 & 5013.44 & -1.0 \\\\\n",
       "\t30 & 5031.6 & 1.0 \\\\\n",
       "\t$\\dots$ & $\\dots$ & $\\dots$ \\\\\n",
       "\\end{tabular}\n"
      ],
      "text/plain": [
       "\u001b[1m338×2 DataFrame\u001b[0m\n",
       "\u001b[1m Row \u001b[0m│\u001b[1m timestamp \u001b[0m\u001b[1m aux     \u001b[0m\n",
       "\u001b[1m     \u001b[0m│\u001b[90m Float64   \u001b[0m\u001b[90m Float64 \u001b[0m\n",
       "─────┼────────────────────\n",
       "   1 │   306.723      1.0\n",
       "   2 │   403.192     -1.0\n",
       "   3 │   513.883      1.0\n",
       "   4 │   813.092      1.0\n",
       "   5 │   924.445      1.0\n",
       "   6 │  1041.2        1.0\n",
       "   7 │  1243.73       1.0\n",
       "   8 │  1468.38      -1.0\n",
       "   9 │  1535.1        1.0\n",
       "  10 │  1635.87       1.0\n",
       "  11 │  1937.79       1.0\n",
       "  ⋮  │     ⋮         ⋮\n",
       " 329 │ 31643.5       -1.0\n",
       " 330 │ 32573.9       -1.0\n",
       " 331 │ 32712.3       -1.0\n",
       " 332 │ 33075.5       -1.0\n",
       " 333 │ 33888.3       -1.0\n",
       " 334 │ 34312.0       -1.0\n",
       " 335 │ 35222.9       -1.0\n",
       " 336 │ 37020.3       -1.0\n",
       " 337 │ 39815.0       -1.0\n",
       " 338 │ 44119.5       -1.0\n",
       "\u001b[36m          317 rows omitted\u001b[0m"
      ]
     },
     "execution_count": 48,
     "metadata": {},
     "output_type": "execute_result"
    }
   ],
   "source": [
    "entrances = DataFrame(timestamp = modelx.times_of_spends.From, aux = ones(length(modelx.times_of_spends.ID)))\n",
    "exits = DataFrame(timestamp = modelx.times_of_spends.To, aux = -1*ones(length(modelx.times_of_spends.ID)))\n",
    "all_events = DataFrame()\n",
    "append!(all_events, entrances)\n",
    "append!(all_events, exits)\n",
    "sort!(all_events)"
   ]
  },
  {
   "cell_type": "code",
   "execution_count": 54,
   "id": "145d5cd6",
   "metadata": {},
   "outputs": [],
   "source": [
    "all_events.g_num = cumsum(all_events.aux);"
   ]
  },
  {
   "cell_type": "code",
   "execution_count": 50,
   "id": "40ef8023",
   "metadata": {},
   "outputs": [
    {
     "data": {
      "text/html": [
       "<div class=\"data-frame\"><p>338 rows × 3 columns</p><table class=\"data-frame\"><thead><tr><th></th><th>timestamp</th><th>aux</th><th>g_num</th></tr><tr><th></th><th title=\"Float64\">Float64</th><th title=\"Float64\">Float64</th><th title=\"Float64\">Float64</th></tr></thead><tbody><tr><th>1</th><td>306.723</td><td>1.0</td><td>1.0</td></tr><tr><th>2</th><td>403.192</td><td>-1.0</td><td>0.0</td></tr><tr><th>3</th><td>513.883</td><td>1.0</td><td>1.0</td></tr><tr><th>4</th><td>813.092</td><td>1.0</td><td>2.0</td></tr><tr><th>5</th><td>924.445</td><td>1.0</td><td>3.0</td></tr><tr><th>6</th><td>1041.2</td><td>1.0</td><td>4.0</td></tr><tr><th>7</th><td>1243.73</td><td>1.0</td><td>5.0</td></tr><tr><th>8</th><td>1468.38</td><td>-1.0</td><td>4.0</td></tr><tr><th>9</th><td>1535.1</td><td>1.0</td><td>5.0</td></tr><tr><th>10</th><td>1635.87</td><td>1.0</td><td>6.0</td></tr><tr><th>11</th><td>1937.79</td><td>1.0</td><td>7.0</td></tr><tr><th>12</th><td>2147.6</td><td>-1.0</td><td>6.0</td></tr><tr><th>13</th><td>2182.42</td><td>-1.0</td><td>5.0</td></tr><tr><th>14</th><td>2322.74</td><td>1.0</td><td>6.0</td></tr><tr><th>15</th><td>2384.34</td><td>1.0</td><td>7.0</td></tr><tr><th>16</th><td>2401.44</td><td>1.0</td><td>8.0</td></tr><tr><th>17</th><td>2597.77</td><td>-1.0</td><td>7.0</td></tr><tr><th>18</th><td>2827.48</td><td>1.0</td><td>8.0</td></tr><tr><th>19</th><td>3006.76</td><td>1.0</td><td>9.0</td></tr><tr><th>20</th><td>3148.31</td><td>1.0</td><td>10.0</td></tr><tr><th>21</th><td>3205.38</td><td>-1.0</td><td>9.0</td></tr><tr><th>22</th><td>3376.31</td><td>1.0</td><td>10.0</td></tr><tr><th>23</th><td>3556.66</td><td>-1.0</td><td>9.0</td></tr><tr><th>24</th><td>3737.97</td><td>1.0</td><td>10.0</td></tr><tr><th>25</th><td>3892.62</td><td>1.0</td><td>11.0</td></tr><tr><th>26</th><td>4280.84</td><td>1.0</td><td>12.0</td></tr><tr><th>27</th><td>4344.24</td><td>1.0</td><td>13.0</td></tr><tr><th>28</th><td>4882.91</td><td>-1.0</td><td>12.0</td></tr><tr><th>29</th><td>5013.44</td><td>-1.0</td><td>11.0</td></tr><tr><th>30</th><td>5031.6</td><td>1.0</td><td>12.0</td></tr><tr><th>&vellip;</th><td>&vellip;</td><td>&vellip;</td><td>&vellip;</td></tr></tbody></table></div>"
      ],
      "text/latex": [
       "\\begin{tabular}{r|ccc}\n",
       "\t& timestamp & aux & g\\_num\\\\\n",
       "\t\\hline\n",
       "\t& Float64 & Float64 & Float64\\\\\n",
       "\t\\hline\n",
       "\t1 & 306.723 & 1.0 & 1.0 \\\\\n",
       "\t2 & 403.192 & -1.0 & 0.0 \\\\\n",
       "\t3 & 513.883 & 1.0 & 1.0 \\\\\n",
       "\t4 & 813.092 & 1.0 & 2.0 \\\\\n",
       "\t5 & 924.445 & 1.0 & 3.0 \\\\\n",
       "\t6 & 1041.2 & 1.0 & 4.0 \\\\\n",
       "\t7 & 1243.73 & 1.0 & 5.0 \\\\\n",
       "\t8 & 1468.38 & -1.0 & 4.0 \\\\\n",
       "\t9 & 1535.1 & 1.0 & 5.0 \\\\\n",
       "\t10 & 1635.87 & 1.0 & 6.0 \\\\\n",
       "\t11 & 1937.79 & 1.0 & 7.0 \\\\\n",
       "\t12 & 2147.6 & -1.0 & 6.0 \\\\\n",
       "\t13 & 2182.42 & -1.0 & 5.0 \\\\\n",
       "\t14 & 2322.74 & 1.0 & 6.0 \\\\\n",
       "\t15 & 2384.34 & 1.0 & 7.0 \\\\\n",
       "\t16 & 2401.44 & 1.0 & 8.0 \\\\\n",
       "\t17 & 2597.77 & -1.0 & 7.0 \\\\\n",
       "\t18 & 2827.48 & 1.0 & 8.0 \\\\\n",
       "\t19 & 3006.76 & 1.0 & 9.0 \\\\\n",
       "\t20 & 3148.31 & 1.0 & 10.0 \\\\\n",
       "\t21 & 3205.38 & -1.0 & 9.0 \\\\\n",
       "\t22 & 3376.31 & 1.0 & 10.0 \\\\\n",
       "\t23 & 3556.66 & -1.0 & 9.0 \\\\\n",
       "\t24 & 3737.97 & 1.0 & 10.0 \\\\\n",
       "\t25 & 3892.62 & 1.0 & 11.0 \\\\\n",
       "\t26 & 4280.84 & 1.0 & 12.0 \\\\\n",
       "\t27 & 4344.24 & 1.0 & 13.0 \\\\\n",
       "\t28 & 4882.91 & -1.0 & 12.0 \\\\\n",
       "\t29 & 5013.44 & -1.0 & 11.0 \\\\\n",
       "\t30 & 5031.6 & 1.0 & 12.0 \\\\\n",
       "\t$\\dots$ & $\\dots$ & $\\dots$ & $\\dots$ \\\\\n",
       "\\end{tabular}\n"
      ],
      "text/plain": [
       "\u001b[1m338×3 DataFrame\u001b[0m\n",
       "\u001b[1m Row \u001b[0m│\u001b[1m timestamp \u001b[0m\u001b[1m aux     \u001b[0m\u001b[1m g_num   \u001b[0m\n",
       "\u001b[1m     \u001b[0m│\u001b[90m Float64   \u001b[0m\u001b[90m Float64 \u001b[0m\u001b[90m Float64 \u001b[0m\n",
       "─────┼─────────────────────────────\n",
       "   1 │   306.723      1.0      1.0\n",
       "   2 │   403.192     -1.0      0.0\n",
       "   3 │   513.883      1.0      1.0\n",
       "   4 │   813.092      1.0      2.0\n",
       "   5 │   924.445      1.0      3.0\n",
       "   6 │  1041.2        1.0      4.0\n",
       "   7 │  1243.73       1.0      5.0\n",
       "   8 │  1468.38      -1.0      4.0\n",
       "   9 │  1535.1        1.0      5.0\n",
       "  10 │  1635.87       1.0      6.0\n",
       "  11 │  1937.79       1.0      7.0\n",
       "  ⋮  │     ⋮         ⋮        ⋮\n",
       " 329 │ 31643.5       -1.0      9.0\n",
       " 330 │ 32573.9       -1.0      8.0\n",
       " 331 │ 32712.3       -1.0      7.0\n",
       " 332 │ 33075.5       -1.0      6.0\n",
       " 333 │ 33888.3       -1.0      5.0\n",
       " 334 │ 34312.0       -1.0      4.0\n",
       " 335 │ 35222.9       -1.0      3.0\n",
       " 336 │ 37020.3       -1.0      2.0\n",
       " 337 │ 39815.0       -1.0      1.0\n",
       " 338 │ 44119.5       -1.0      0.0\n",
       "\u001b[36m                   317 rows omitted\u001b[0m"
      ]
     },
     "execution_count": 50,
     "metadata": {},
     "output_type": "execute_result"
    }
   ],
   "source": [
    "all_events"
   ]
  },
  {
   "cell_type": "code",
   "execution_count": 51,
   "id": "310b9d81",
   "metadata": {},
   "outputs": [
    {
     "data": {
      "text/plain": [
       "19.766272189349113"
      ]
     },
     "execution_count": 51,
     "metadata": {},
     "output_type": "execute_result"
    }
   ],
   "source": [
    "mean(all_events.g_num)"
   ]
  },
  {
   "cell_type": "markdown",
   "id": "902037cd",
   "metadata": {},
   "source": [
    "## W kolejnych etapach należałoby dodać parametry wejściowe dla parametrów rozkładów czasu obsługi, czasu przyjścia kolejnego klienta oraz czasu pobytu na lodowisku. Ponadto symulacja na razie nie pozwala na skrócenie czasu pobytu na lodowisku w przypadku skończenia się horyzontu czasowego. Lodowisko działa do ostatniego klienta"
   ]
  },
  {
   "cell_type": "code",
   "execution_count": 52,
   "id": "59b63bb0",
   "metadata": {},
   "outputs": [
    {
     "data": {
      "text/html": [
       "<p>DataFrameRow (3 columns)</p><div class=\"data-frame\"><table class=\"data-frame\"><thead><tr><th></th><th>timestamp</th><th>aux</th><th>g_num</th></tr><tr><th></th><th title=\"Float64\">Float64</th><th title=\"Float64\">Float64</th><th title=\"Float64\">Float64</th></tr></thead><tbody><tr><th>338</th><td>44119.5</td><td>-1.0</td><td>0.0</td></tr></tbody></table></div>"
      ],
      "text/latex": [
       "\\begin{tabular}{r|ccc}\n",
       "\t& timestamp & aux & g\\_num\\\\\n",
       "\t\\hline\n",
       "\t& Float64 & Float64 & Float64\\\\\n",
       "\t\\hline\n",
       "\t338 & 44119.5 & -1.0 & 0.0 \\\\\n",
       "\\end{tabular}\n"
      ],
      "text/plain": [
       "\u001b[1mDataFrameRow\u001b[0m\n",
       "\u001b[1m Row \u001b[0m│\u001b[1m timestamp \u001b[0m\u001b[1m aux     \u001b[0m\u001b[1m g_num   \u001b[0m\n",
       "\u001b[1m     \u001b[0m│\u001b[90m Float64   \u001b[0m\u001b[90m Float64 \u001b[0m\u001b[90m Float64 \u001b[0m\n",
       "─────┼─────────────────────────────\n",
       " 338 │   44119.5     -1.0      0.0"
      ]
     },
     "execution_count": 52,
     "metadata": {},
     "output_type": "execute_result"
    }
   ],
   "source": [
    "last(all_events)"
   ]
  },
  {
   "cell_type": "code",
   "execution_count": 53,
   "id": "1eb9c983",
   "metadata": {},
   "outputs": [
    {
     "data": {
      "text/plain": [
       "12.193944444444444"
      ]
     },
     "execution_count": 53,
     "metadata": {},
     "output_type": "execute_result"
    }
   ],
   "source": [
    "43898.2/3600"
   ]
  },
  {
   "cell_type": "code",
   "execution_count": null,
   "id": "d1103805",
   "metadata": {},
   "outputs": [],
   "source": []
  }
 ],
 "metadata": {
  "kernelspec": {
   "display_name": "Julia 1.8.2",
   "language": "julia",
   "name": "julia-1.8"
  },
  "language_info": {
   "file_extension": ".jl",
   "mimetype": "application/julia",
   "name": "julia",
   "version": "1.8.2"
  }
 },
 "nbformat": 4,
 "nbformat_minor": 5
}
